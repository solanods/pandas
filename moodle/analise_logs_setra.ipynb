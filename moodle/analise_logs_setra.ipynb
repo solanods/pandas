{
 "cells": [
  {
   "cell_type": "code",
   "execution_count": 1,
   "id": "f22debfc",
   "metadata": {},
   "outputs": [],
   "source": [
    "import pandas as pd\n",
    "import datetime\n",
    "pd.set_option('display.max_rows', 3000)"
   ]
  },
  {
   "cell_type": "code",
   "execution_count": 2,
   "id": "fac00c14",
   "metadata": {},
   "outputs": [],
   "source": [
    "df = pd.read_csv('/home/sol/Downloads/logs_setra.csv')"
   ]
  },
  {
   "cell_type": "code",
   "execution_count": 3,
   "id": "0a0bbc97",
   "metadata": {},
   "outputs": [
    {
     "name": "stdout",
     "output_type": "stream",
     "text": [
      "<class 'pandas.core.frame.DataFrame'>\n",
      "RangeIndex: 27 entries, 0 to 26\n",
      "Columns: 418 entries, Unnamed: 0 to Unnamed: 417\n",
      "dtypes: float64(2), object(416)\n",
      "memory usage: 88.3+ KB\n"
     ]
    }
   ],
   "source": [
    "df.info()"
   ]
  },
  {
   "cell_type": "code",
   "execution_count": 4,
   "id": "787691b4",
   "metadata": {},
   "outputs": [],
   "source": [
    "#renomear uma coluna\n",
    "df = df.rename({'Unnamed: 0': 'Nome completo'}, axis = 1)"
   ]
  },
  {
   "cell_type": "code",
   "execution_count": 5,
   "id": "11d03688",
   "metadata": {},
   "outputs": [],
   "source": [
    "#remover as colunas com base na string\n",
    "df.drop([col for col in df.columns if \"Unnamed\" in col], axis=1, inplace=True)"
   ]
  },
  {
   "cell_type": "code",
   "execution_count": 6,
   "id": "1d340d13",
   "metadata": {},
   "outputs": [],
   "source": [
    "# Ordena pelo campo nome e salva em um novo DataFrame\n",
    "df = df.sort_values(by='Nome completo')"
   ]
  },
  {
   "cell_type": "code",
   "execution_count": 7,
   "id": "306e38a7",
   "metadata": {},
   "outputs": [],
   "source": [
    "#normalizando as strings da coluna nome\n",
    "df['Nome completo'] = df['Nome completo'].str.title()"
   ]
  },
  {
   "cell_type": "code",
   "execution_count": 8,
   "id": "0a49f2f3",
   "metadata": {},
   "outputs": [
    {
     "data": {
      "text/plain": [
       "209"
      ]
     },
     "execution_count": 8,
     "metadata": {},
     "output_type": "execute_result"
    }
   ],
   "source": [
    "#numero de atividades do cursos\n",
    "len(df.columns) - 2"
   ]
  },
  {
   "cell_type": "code",
   "execution_count": 9,
   "id": "957d2ea2",
   "metadata": {},
   "outputs": [],
   "source": [
    "#transpor o df inteiro\n",
    "df = df.T"
   ]
  },
  {
   "cell_type": "code",
   "execution_count": 10,
   "id": "b3981867",
   "metadata": {},
   "outputs": [],
   "source": [
    "#passar a primeira linha para nome de colunas\n",
    "df.columns = df.iloc[0]"
   ]
  },
  {
   "cell_type": "code",
   "execution_count": 11,
   "id": "803a70ff",
   "metadata": {},
   "outputs": [],
   "source": [
    "#remover a primeira linha\n",
    "df = df.iloc[1:]"
   ]
  },
  {
   "cell_type": "code",
   "execution_count": 12,
   "id": "564b6a28",
   "metadata": {},
   "outputs": [],
   "source": [
    "#função lambda para contagem de porcentagem de atividades concluídas\n",
    "f = lambda y: y.str.contains('Concluído').sum()/len(df)*100"
   ]
  },
  {
   "cell_type": "code",
   "execution_count": 13,
   "id": "c4bea507",
   "metadata": {},
   "outputs": [],
   "source": [
    "porcentagem_conclusao_aluno = df.apply(f)"
   ]
  },
  {
   "cell_type": "code",
   "execution_count": 14,
   "id": "34c25562",
   "metadata": {},
   "outputs": [],
   "source": [
    "porcentagem_conclusao_aluno = porcentagem_conclusao_aluno.to_frame().round(decimals=2)"
   ]
  },
  {
   "cell_type": "code",
   "execution_count": 15,
   "id": "e0b64956",
   "metadata": {},
   "outputs": [
    {
     "data": {
      "text/html": [
       "<div>\n",
       "<style scoped>\n",
       "    .dataframe tbody tr th:only-of-type {\n",
       "        vertical-align: middle;\n",
       "    }\n",
       "\n",
       "    .dataframe tbody tr th {\n",
       "        vertical-align: top;\n",
       "    }\n",
       "\n",
       "    .dataframe thead th {\n",
       "        text-align: right;\n",
       "    }\n",
       "</style>\n",
       "<table border=\"1\" class=\"dataframe\">\n",
       "  <thead>\n",
       "    <tr style=\"text-align: right;\">\n",
       "      <th></th>\n",
       "      <th>0</th>\n",
       "    </tr>\n",
       "    <tr>\n",
       "      <th>Nome completo</th>\n",
       "      <th></th>\n",
       "    </tr>\n",
       "  </thead>\n",
       "  <tbody>\n",
       "    <tr>\n",
       "      <th>Andrei Luft Diniz</th>\n",
       "      <td>98.10</td>\n",
       "    </tr>\n",
       "    <tr>\n",
       "      <th>Adão Derli Cavalheiro Barcellos Filho</th>\n",
       "      <td>90.95</td>\n",
       "    </tr>\n",
       "    <tr>\n",
       "      <th>Carlos Roberto Neto Coitinho</th>\n",
       "      <td>97.62</td>\n",
       "    </tr>\n",
       "    <tr>\n",
       "      <th>Cibele Rocha Gonçalves</th>\n",
       "      <td>77.62</td>\n",
       "    </tr>\n",
       "    <tr>\n",
       "      <th>Cristiano Da Silva Cruz</th>\n",
       "      <td>98.10</td>\n",
       "    </tr>\n",
       "    <tr>\n",
       "      <th>Diego De Oliveira Otto</th>\n",
       "      <td>98.10</td>\n",
       "    </tr>\n",
       "    <tr>\n",
       "      <th>Edna Martins Dahm</th>\n",
       "      <td>97.62</td>\n",
       "    </tr>\n",
       "    <tr>\n",
       "      <th>Fellipe Chaves Soares</th>\n",
       "      <td>98.10</td>\n",
       "    </tr>\n",
       "    <tr>\n",
       "      <th>Flávia Pereira Strattmann</th>\n",
       "      <td>98.10</td>\n",
       "    </tr>\n",
       "    <tr>\n",
       "      <th>Franco Klein</th>\n",
       "      <td>98.10</td>\n",
       "    </tr>\n",
       "    <tr>\n",
       "      <th>Guilherme Nunes Pereira</th>\n",
       "      <td>98.10</td>\n",
       "    </tr>\n",
       "    <tr>\n",
       "      <th>Juliano Araújo Dos Santos</th>\n",
       "      <td>85.71</td>\n",
       "    </tr>\n",
       "    <tr>\n",
       "      <th>Juliano Prandini Silveira</th>\n",
       "      <td>85.24</td>\n",
       "    </tr>\n",
       "    <tr>\n",
       "      <th>Kely De Araújo</th>\n",
       "      <td>97.14</td>\n",
       "    </tr>\n",
       "    <tr>\n",
       "      <th>Leocy Cananea Pereira</th>\n",
       "      <td>91.43</td>\n",
       "    </tr>\n",
       "    <tr>\n",
       "      <th>Letícia De Jaques Vargas</th>\n",
       "      <td>87.62</td>\n",
       "    </tr>\n",
       "    <tr>\n",
       "      <th>Matheus Eduardo Albarello Zanatta</th>\n",
       "      <td>98.10</td>\n",
       "    </tr>\n",
       "    <tr>\n",
       "      <th>Mirian Da Silva Elesbao</th>\n",
       "      <td>97.62</td>\n",
       "    </tr>\n",
       "    <tr>\n",
       "      <th>Marcos Jefremovas Neto</th>\n",
       "      <td>98.10</td>\n",
       "    </tr>\n",
       "    <tr>\n",
       "      <th>Mauro Felipe Furlan</th>\n",
       "      <td>91.43</td>\n",
       "    </tr>\n",
       "    <tr>\n",
       "      <th>Maí De Oliveira Tubino</th>\n",
       "      <td>97.14</td>\n",
       "    </tr>\n",
       "    <tr>\n",
       "      <th>Robson Marcos Galli</th>\n",
       "      <td>98.10</td>\n",
       "    </tr>\n",
       "    <tr>\n",
       "      <th>Rodrigo Vieira Dos Santos</th>\n",
       "      <td>97.14</td>\n",
       "    </tr>\n",
       "    <tr>\n",
       "      <th>Simone Rodrigues</th>\n",
       "      <td>85.71</td>\n",
       "    </tr>\n",
       "    <tr>\n",
       "      <th>Tatiane Alves Vieira</th>\n",
       "      <td>98.10</td>\n",
       "    </tr>\n",
       "    <tr>\n",
       "      <th>Vinícius Dias De Lima</th>\n",
       "      <td>85.24</td>\n",
       "    </tr>\n",
       "    <tr>\n",
       "      <th>Vinícius Ramos De Souza</th>\n",
       "      <td>90.95</td>\n",
       "    </tr>\n",
       "  </tbody>\n",
       "</table>\n",
       "</div>"
      ],
      "text/plain": [
       "                                           0\n",
       "Nome completo                               \n",
       "Andrei Luft Diniz                      98.10\n",
       "Adão Derli Cavalheiro Barcellos Filho  90.95\n",
       "Carlos Roberto Neto Coitinho           97.62\n",
       "Cibele Rocha Gonçalves                 77.62\n",
       "Cristiano Da Silva Cruz                98.10\n",
       "Diego De Oliveira Otto                 98.10\n",
       "Edna Martins Dahm                      97.62\n",
       "Fellipe Chaves Soares                  98.10\n",
       "Flávia Pereira Strattmann              98.10\n",
       "Franco Klein                           98.10\n",
       "Guilherme Nunes Pereira                98.10\n",
       "Juliano Araújo Dos Santos              85.71\n",
       "Juliano Prandini Silveira              85.24\n",
       "Kely De Araújo                         97.14\n",
       "Leocy Cananea Pereira                  91.43\n",
       "Letícia De Jaques Vargas               87.62\n",
       "Matheus Eduardo Albarello Zanatta      98.10\n",
       "Mirian Da Silva Elesbao                97.62\n",
       "Marcos Jefremovas Neto                 98.10\n",
       "Mauro Felipe Furlan                    91.43\n",
       "Maí De Oliveira Tubino                 97.14\n",
       "Robson Marcos Galli                    98.10\n",
       "Rodrigo Vieira Dos Santos              97.14\n",
       "Simone Rodrigues                       85.71\n",
       "Tatiane Alves Vieira                   98.10\n",
       "Vinícius Dias De Lima                  85.24\n",
       "Vinícius Ramos De Souza                90.95"
      ]
     },
     "execution_count": 15,
     "metadata": {},
     "output_type": "execute_result"
    }
   ],
   "source": [
    "porcentagem_conclusao_aluno"
   ]
  },
  {
   "cell_type": "code",
   "execution_count": 16,
   "id": "82505658",
   "metadata": {},
   "outputs": [],
   "source": [
    "porcentagem_conclusao_aluno.to_excel('/home/sol/Downloads/porcentagem_conclusao_setra.xlsx')"
   ]
  },
  {
   "cell_type": "code",
   "execution_count": null,
   "id": "5b406964",
   "metadata": {},
   "outputs": [],
   "source": []
  }
 ],
 "metadata": {
  "kernelspec": {
   "display_name": "Python 3 (ipykernel)",
   "language": "python",
   "name": "python3"
  },
  "language_info": {
   "codemirror_mode": {
    "name": "ipython",
    "version": 3
   },
   "file_extension": ".py",
   "mimetype": "text/x-python",
   "name": "python",
   "nbconvert_exporter": "python",
   "pygments_lexer": "ipython3",
   "version": "3.8.13"
  }
 },
 "nbformat": 4,
 "nbformat_minor": 5
}
