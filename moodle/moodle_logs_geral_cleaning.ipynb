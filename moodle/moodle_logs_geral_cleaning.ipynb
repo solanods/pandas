{
 "cells": [
  {
   "cell_type": "markdown",
   "id": "21712c1e",
   "metadata": {},
   "source": [
    "# Limpeza dos logs gerais Moodle,   todos os usuários, eventos, ações: ATUALIZAR"
   ]
  },
  {
   "cell_type": "code",
   "execution_count": 1,
   "id": "280b0a44",
   "metadata": {},
   "outputs": [],
   "source": [
    "import pandas as pd"
   ]
  },
  {
   "cell_type": "code",
   "execution_count": 2,
   "id": "d21db84c",
   "metadata": {},
   "outputs": [],
   "source": [
    "df = pd.read_csv('/home/sol/Documentos/datasets/logs_moodle_20220201.csv')"
   ]
  },
  {
   "cell_type": "code",
   "execution_count": 9,
   "id": "4c64563f",
   "metadata": {},
   "outputs": [],
   "source": [
    "#normalize the strings case\n",
    "df['Nome completo'] = df['Nome completo'].str.title()\n",
    "df['Usuário afetado'] = df['Usuário afetado'].str.title()"
   ]
  },
  {
   "cell_type": "code",
   "execution_count": 11,
   "id": "297be887",
   "metadata": {},
   "outputs": [],
   "source": [
    "df = df.drop_duplicates()"
   ]
  },
  {
   "cell_type": "code",
   "execution_count": 14,
   "id": "9fc3634c",
   "metadata": {},
   "outputs": [],
   "source": [
    "# Get names of indexes for which column Nome completo has value No\n",
    "indexNames = df[ df['Nome completo'] == '-' ].index"
   ]
  },
  {
   "cell_type": "code",
   "execution_count": 15,
   "id": "fc5e88c3",
   "metadata": {},
   "outputs": [
    {
     "data": {
      "text/plain": [
       "Int64Index([    8,    26,    31,    42,    54,    57,    73,    82,   101,\n",
       "              111,\n",
       "            ...\n",
       "            22438, 22508, 22643, 22852, 22944, 22950, 23072, 23075, 23078,\n",
       "            23098],\n",
       "           dtype='int64', length=1786)"
      ]
     },
     "execution_count": 15,
     "metadata": {},
     "output_type": "execute_result"
    }
   ],
   "source": [
    "indexNames"
   ]
  },
  {
   "cell_type": "code",
   "execution_count": 16,
   "id": "c04f8046",
   "metadata": {},
   "outputs": [
    {
     "name": "stderr",
     "output_type": "stream",
     "text": [
      "/home/sol/anaconda3/lib/python3.8/site-packages/pandas/core/frame.py:4906: SettingWithCopyWarning: \n",
      "A value is trying to be set on a copy of a slice from a DataFrame\n",
      "\n",
      "See the caveats in the documentation: https://pandas.pydata.org/pandas-docs/stable/user_guide/indexing.html#returning-a-view-versus-a-copy\n",
      "  return super().drop(\n"
     ]
    }
   ],
   "source": [
    "# Delete these row indexes from dataFrame\n",
    "df.drop(indexNames , inplace=True)"
   ]
  },
  {
   "cell_type": "code",
   "execution_count": 22,
   "id": "cdf1e48d",
   "metadata": {},
   "outputs": [],
   "source": [
    "#drop nan\n",
    "df = df.dropna()"
   ]
  },
  {
   "cell_type": "code",
   "execution_count": 23,
   "id": "cd546a74",
   "metadata": {},
   "outputs": [
    {
     "name": "stdout",
     "output_type": "stream",
     "text": [
      "<class 'pandas.core.frame.DataFrame'>\n",
      "Int64Index: 19213 entries, 0 to 23151\n",
      "Data columns (total 9 columns):\n",
      " #   Column              Non-Null Count  Dtype \n",
      "---  ------              --------------  ----- \n",
      " 0   Hora                19213 non-null  object\n",
      " 1   Nome completo       19213 non-null  object\n",
      " 2   Usuário afetado     19213 non-null  object\n",
      " 3   Contexto do Evento  19213 non-null  object\n",
      " 4   Componente          19213 non-null  object\n",
      " 5   Nome do evento      19213 non-null  object\n",
      " 6   Descrição           19213 non-null  object\n",
      " 7   Origem              19213 non-null  object\n",
      " 8   endereço IP         19213 non-null  object\n",
      "dtypes: object(9)\n",
      "memory usage: 1.5+ MB\n"
     ]
    }
   ],
   "source": [
    "df.info()"
   ]
  },
  {
   "cell_type": "code",
   "execution_count": 24,
   "id": "6fb1979a",
   "metadata": {},
   "outputs": [
    {
     "data": {
      "text/html": [
       "<div>\n",
       "<style scoped>\n",
       "    .dataframe tbody tr th:only-of-type {\n",
       "        vertical-align: middle;\n",
       "    }\n",
       "\n",
       "    .dataframe tbody tr th {\n",
       "        vertical-align: top;\n",
       "    }\n",
       "\n",
       "    .dataframe thead th {\n",
       "        text-align: right;\n",
       "    }\n",
       "</style>\n",
       "<table border=\"1\" class=\"dataframe\">\n",
       "  <thead>\n",
       "    <tr style=\"text-align: right;\">\n",
       "      <th></th>\n",
       "      <th>Hora</th>\n",
       "      <th>Nome completo</th>\n",
       "      <th>Usuário afetado</th>\n",
       "      <th>Contexto do Evento</th>\n",
       "      <th>Componente</th>\n",
       "      <th>Nome do evento</th>\n",
       "      <th>Descrição</th>\n",
       "      <th>Origem</th>\n",
       "      <th>endereço IP</th>\n",
       "    </tr>\n",
       "  </thead>\n",
       "  <tbody>\n",
       "    <tr>\n",
       "      <th>0</th>\n",
       "      <td>1/02/2022 17:16</td>\n",
       "      <td>Simone Rodrigues</td>\n",
       "      <td>Simone Rodrigues</td>\n",
       "      <td>Questionário: Questionário sobre eletricidade ...</td>\n",
       "      <td>Questionário</td>\n",
       "      <td>Tentativa do questionário entregue</td>\n",
       "      <td>The user with id '278' has submitted the attem...</td>\n",
       "      <td>ws</td>\n",
       "      <td>10.0.0.63</td>\n",
       "    </tr>\n",
       "    <tr>\n",
       "      <th>1</th>\n",
       "      <td>1/02/2022 17:07</td>\n",
       "      <td>Simone Rodrigues</td>\n",
       "      <td>Simone Rodrigues</td>\n",
       "      <td>Livro: EQUIPAMENTOS ELÉTRICOS, ELETRÔNICOS EMB...</td>\n",
       "      <td>Sistema</td>\n",
       "      <td>Conclusão da atividade do curso atualizada</td>\n",
       "      <td>The user with id '278' updated the completion ...</td>\n",
       "      <td>ws</td>\n",
       "      <td>10.0.0.63</td>\n",
       "    </tr>\n",
       "    <tr>\n",
       "      <th>2</th>\n",
       "      <td>1/02/2022 17:02</td>\n",
       "      <td>Edelvira Silva</td>\n",
       "      <td>Edelvira Silva</td>\n",
       "      <td>Livro: ANEXO I - CADERNO DE PA'S</td>\n",
       "      <td>Sistema</td>\n",
       "      <td>Conclusão da atividade do curso atualizada</td>\n",
       "      <td>The user with id '141' updated the completion ...</td>\n",
       "      <td>web</td>\n",
       "      <td>10.0.0.63</td>\n",
       "    </tr>\n",
       "    <tr>\n",
       "      <th>4</th>\n",
       "      <td>1/02/2022 17:02</td>\n",
       "      <td>Edelvira Silva</td>\n",
       "      <td>Edelvira Silva</td>\n",
       "      <td>Página: Regulamentação de limite de velocidade...</td>\n",
       "      <td>Sistema</td>\n",
       "      <td>Conclusão da atividade do curso atualizada</td>\n",
       "      <td>The user with id '141' updated the completion ...</td>\n",
       "      <td>web</td>\n",
       "      <td>10.0.0.63</td>\n",
       "    </tr>\n",
       "    <tr>\n",
       "      <th>6</th>\n",
       "      <td>1/02/2022 17:01</td>\n",
       "      <td>Edelvira Silva</td>\n",
       "      <td>Edelvira Silva</td>\n",
       "      <td>Pesquisa: Avaliação de Satisfação - Modalidade...</td>\n",
       "      <td>Sistema</td>\n",
       "      <td>Conclusão da atividade do curso atualizada</td>\n",
       "      <td>The user with id '141' updated the completion ...</td>\n",
       "      <td>web</td>\n",
       "      <td>10.0.0.63</td>\n",
       "    </tr>\n",
       "    <tr>\n",
       "      <th>...</th>\n",
       "      <td>...</td>\n",
       "      <td>...</td>\n",
       "      <td>...</td>\n",
       "      <td>...</td>\n",
       "      <td>...</td>\n",
       "      <td>...</td>\n",
       "      <td>...</td>\n",
       "      <td>...</td>\n",
       "      <td>...</td>\n",
       "    </tr>\n",
       "    <tr>\n",
       "      <th>23147</th>\n",
       "      <td>17/02/2021 13:46</td>\n",
       "      <td>Administrador Trensurb</td>\n",
       "      <td>Juliana Flores Ribeiro</td>\n",
       "      <td>Usuário: Juliana Flores Ribeiro</td>\n",
       "      <td>Sistema</td>\n",
       "      <td>Usuário atualizado</td>\n",
       "      <td>The user with id '2' updated the profile for t...</td>\n",
       "      <td>web</td>\n",
       "      <td>10.3.2.4</td>\n",
       "    </tr>\n",
       "    <tr>\n",
       "      <th>23148</th>\n",
       "      <td>17/02/2021 13:46</td>\n",
       "      <td>Administrador Trensurb</td>\n",
       "      <td>Juliana Flores Ribeiro</td>\n",
       "      <td>Usuário: Juliana Flores Ribeiro</td>\n",
       "      <td>Sistema</td>\n",
       "      <td>Senha de usuário atualizada</td>\n",
       "      <td>The user with id '2' changed the password of t...</td>\n",
       "      <td>web</td>\n",
       "      <td>10.3.2.4</td>\n",
       "    </tr>\n",
       "    <tr>\n",
       "      <th>23149</th>\n",
       "      <td>17/02/2021 13:45</td>\n",
       "      <td>Administrador Trensurb</td>\n",
       "      <td>Juliana Flores Ribeiro</td>\n",
       "      <td>Usuário: Juliana Flores Ribeiro</td>\n",
       "      <td>Sistema</td>\n",
       "      <td>Senha de usuário atualizada</td>\n",
       "      <td>The user with id '2' changed the password of t...</td>\n",
       "      <td>web</td>\n",
       "      <td>10.3.2.4</td>\n",
       "    </tr>\n",
       "    <tr>\n",
       "      <th>23150</th>\n",
       "      <td>15/02/2021 15:08</td>\n",
       "      <td>Administrador Trensurb</td>\n",
       "      <td>Administrador Trensurb</td>\n",
       "      <td>Usuário: Administrador Trensurb</td>\n",
       "      <td>Sistema</td>\n",
       "      <td>Usuário atualizado</td>\n",
       "      <td>The user with id '2' updated the profile for t...</td>\n",
       "      <td>web</td>\n",
       "      <td>10.0.0.20</td>\n",
       "    </tr>\n",
       "    <tr>\n",
       "      <th>23151</th>\n",
       "      <td>15/02/2021 15:08</td>\n",
       "      <td>Administrador Trensurb</td>\n",
       "      <td>Administrador Trensurb</td>\n",
       "      <td>Usuário: Administrador Trensurb</td>\n",
       "      <td>Sistema</td>\n",
       "      <td>Senha de usuário atualizada</td>\n",
       "      <td>The user with id '2' changed their password.</td>\n",
       "      <td>web</td>\n",
       "      <td>10.0.0.20</td>\n",
       "    </tr>\n",
       "  </tbody>\n",
       "</table>\n",
       "<p>19213 rows × 9 columns</p>\n",
       "</div>"
      ],
      "text/plain": [
       "                   Hora           Nome completo         Usuário afetado  \\\n",
       "0       1/02/2022 17:16        Simone Rodrigues        Simone Rodrigues   \n",
       "1       1/02/2022 17:07        Simone Rodrigues        Simone Rodrigues   \n",
       "2       1/02/2022 17:02          Edelvira Silva          Edelvira Silva   \n",
       "4       1/02/2022 17:02          Edelvira Silva          Edelvira Silva   \n",
       "6       1/02/2022 17:01          Edelvira Silva          Edelvira Silva   \n",
       "...                 ...                     ...                     ...   \n",
       "23147  17/02/2021 13:46  Administrador Trensurb  Juliana Flores Ribeiro   \n",
       "23148  17/02/2021 13:46  Administrador Trensurb  Juliana Flores Ribeiro   \n",
       "23149  17/02/2021 13:45  Administrador Trensurb  Juliana Flores Ribeiro   \n",
       "23150  15/02/2021 15:08  Administrador Trensurb  Administrador Trensurb   \n",
       "23151  15/02/2021 15:08  Administrador Trensurb  Administrador Trensurb   \n",
       "\n",
       "                                      Contexto do Evento    Componente  \\\n",
       "0      Questionário: Questionário sobre eletricidade ...  Questionário   \n",
       "1      Livro: EQUIPAMENTOS ELÉTRICOS, ELETRÔNICOS EMB...       Sistema   \n",
       "2                       Livro: ANEXO I - CADERNO DE PA'S       Sistema   \n",
       "4      Página: Regulamentação de limite de velocidade...       Sistema   \n",
       "6      Pesquisa: Avaliação de Satisfação - Modalidade...       Sistema   \n",
       "...                                                  ...           ...   \n",
       "23147                    Usuário: Juliana Flores Ribeiro       Sistema   \n",
       "23148                    Usuário: Juliana Flores Ribeiro       Sistema   \n",
       "23149                    Usuário: Juliana Flores Ribeiro       Sistema   \n",
       "23150                    Usuário: Administrador Trensurb       Sistema   \n",
       "23151                    Usuário: Administrador Trensurb       Sistema   \n",
       "\n",
       "                                   Nome do evento  \\\n",
       "0              Tentativa do questionário entregue   \n",
       "1      Conclusão da atividade do curso atualizada   \n",
       "2      Conclusão da atividade do curso atualizada   \n",
       "4      Conclusão da atividade do curso atualizada   \n",
       "6      Conclusão da atividade do curso atualizada   \n",
       "...                                           ...   \n",
       "23147                          Usuário atualizado   \n",
       "23148                 Senha de usuário atualizada   \n",
       "23149                 Senha de usuário atualizada   \n",
       "23150                          Usuário atualizado   \n",
       "23151                 Senha de usuário atualizada   \n",
       "\n",
       "                                               Descrição Origem endereço IP  \n",
       "0      The user with id '278' has submitted the attem...     ws   10.0.0.63  \n",
       "1      The user with id '278' updated the completion ...     ws   10.0.0.63  \n",
       "2      The user with id '141' updated the completion ...    web   10.0.0.63  \n",
       "4      The user with id '141' updated the completion ...    web   10.0.0.63  \n",
       "6      The user with id '141' updated the completion ...    web   10.0.0.63  \n",
       "...                                                  ...    ...         ...  \n",
       "23147  The user with id '2' updated the profile for t...    web    10.3.2.4  \n",
       "23148  The user with id '2' changed the password of t...    web    10.3.2.4  \n",
       "23149  The user with id '2' changed the password of t...    web    10.3.2.4  \n",
       "23150  The user with id '2' updated the profile for t...    web   10.0.0.20  \n",
       "23151       The user with id '2' changed their password.    web   10.0.0.20  \n",
       "\n",
       "[19213 rows x 9 columns]"
      ]
     },
     "execution_count": 24,
     "metadata": {},
     "output_type": "execute_result"
    }
   ],
   "source": [
    "df"
   ]
  },
  {
   "cell_type": "code",
   "execution_count": 25,
   "id": "02af2796",
   "metadata": {},
   "outputs": [],
   "source": [
    "df.to_excel('/home/sol/Downloads/logs_20220201.xlsx')"
   ]
  },
  {
   "cell_type": "code",
   "execution_count": null,
   "id": "e8eaa33c",
   "metadata": {},
   "outputs": [],
   "source": []
  }
 ],
 "metadata": {
  "kernelspec": {
   "display_name": "Python 3 (ipykernel)",
   "language": "python",
   "name": "python3"
  },
  "language_info": {
   "codemirror_mode": {
    "name": "ipython",
    "version": 3
   },
   "file_extension": ".py",
   "mimetype": "text/x-python",
   "name": "python",
   "nbconvert_exporter": "python",
   "pygments_lexer": "ipython3",
   "version": "3.8.8"
  }
 },
 "nbformat": 4,
 "nbformat_minor": 5
}
