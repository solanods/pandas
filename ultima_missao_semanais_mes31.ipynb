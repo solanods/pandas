{
  "nbformat": 4,
  "nbformat_minor": 0,
  "metadata": {
    "colab": {
      "name": "ultima_missao_semanais_mes31.ipynb",
      "provenance": [],
      "collapsed_sections": [],
      "authorship_tag": "ABX9TyNdta/+Tu7CLMli89B7zPAu",
      "include_colab_link": true
    },
    "kernelspec": {
      "name": "python3",
      "display_name": "Python 3"
    },
    "language_info": {
      "name": "python"
    }
  },
  "cells": [
    {
      "cell_type": "markdown",
      "metadata": {
        "id": "view-in-github",
        "colab_type": "text"
      },
      "source": [
        "<a href=\"https://colab.research.google.com/github/solanods/pandas/blob/master/ultima_missao_semanais_mes31.ipynb\" target=\"_parent\"><img src=\"https://colab.research.google.com/assets/colab-badge.svg\" alt=\"Open In Colab\"/></a>"
      ]
    },
    {
      "cell_type": "code",
      "execution_count": null,
      "metadata": {
        "id": "G8JLdQqS-3uR"
      },
      "outputs": [],
      "source": [
        "from re import search\n",
        "import pandas as pd\n",
        "pd.set_option('display.max_rows', 5000)\n",
        "pd.set_option('display.max_columns', 5000)\n"
      ]
    },
    {
      "cell_type": "code",
      "source": [
        "# Cria os dataframes iniciais\n",
        "df = pd.read_excel('PRMS_08_AGO_2022.xlsm', sheet_name='QUA')\n",
        "df2 = pd.read_excel('PRMS_07_JUL_2022.xlsm', sheet_name='RMOP')\n"
      ],
      "metadata": {
        "id": "ZktNnQje_U57",
        "colab": {
          "base_uri": "https://localhost:8080/"
        },
        "outputId": "a3b66b6f-28f6-42b2-8ef7-ca355a4014ca"
      },
      "execution_count": null,
      "outputs": [
        {
          "output_type": "stream",
          "name": "stderr",
          "text": [
            "/usr/local/lib/python3.7/dist-packages/openpyxl/worksheet/_reader.py:312: UserWarning: Data Validation extension is not supported and will be removed\n",
            "  warn(msg)\n"
          ]
        }
      ]
    },
    {
      "cell_type": "code",
      "source": [
        "# Criar dataframe com dados das missoes semanais\n",
        "semanais = pd.concat([df['Unnamed: 1'][151:], df['Unnamed: 3'][151:], df['Unnamed: 8'][151:], df['Unnamed: 10'][151:]], axis=1, ignore_index=False)"
      ],
      "metadata": {
        "id": "P0KYQDK1CJw-"
      },
      "execution_count": null,
      "outputs": []
    },
    {
      "cell_type": "code",
      "source": [
        "# Obter lista com nome de todos operadores\n",
        "operadores = []\n",
        "for linha in df2.index:\n",
        "  if search ('[A-Z]+', str(df2['Unnamed: 3'][linha])):\n",
        "    operadores.append(df2['Unnamed: 3'][linha])\n",
        "\n",
        "operadores = [operador for operador in operadores if operador.isupper()]"
      ],
      "metadata": {
        "id": "CqDz4FqEQOXH"
      },
      "execution_count": null,
      "outputs": []
    },
    {
      "cell_type": "code",
      "source": [
        "# Obter lista com operadores que estão na escala semanal\n",
        "operadores_semanal = []\n",
        "for linha in semanais.index:\n",
        "  if search ('[A-Z]+', str(semanais['Unnamed: 3'][linha])):\n",
        "    operadores_semanal.append(semanais['Unnamed: 3'][linha])\n",
        "  if search ('[A-Z]+', str(semanais['Unnamed: 10'][linha])):\n",
        "    operadores_semanal.append(semanais['Unnamed: 10'][linha])\n",
        "\n",
        "operadores_semanal = sorted(operadores_semanal)"
      ],
      "metadata": {
        "id": "Kec1auQ54AAA"
      },
      "execution_count": null,
      "outputs": []
    },
    {
      "cell_type": "code",
      "source": [
        "# Criar dataframe com as colunas de dados alvo\n",
        "nome_missao = pd.concat([df2['Unnamed: 3'], df2['Unnamed: 8']], axis=1, ignore_index=False)"
      ],
      "metadata": {
        "id": "HDx0dl-qJeHf"
      },
      "execution_count": null,
      "outputs": []
    },
    {
      "cell_type": "code",
      "source": [
        "# Obter as listas de ultimas missoes (da 22ª a última) varrendo a coluna com um range\n",
        "# O valor no range deve ser igual ao número de operadores\n",
        "i = 8\n",
        "j =39\n",
        "missoes = []\n",
        "for x in range(184):\n",
        "  missoes.append(nome_missao['Unnamed: 8'].iloc[i:j].to_list()[22:])\n",
        "  i += 66\n",
        "  j += 66\n"
      ],
      "metadata": {
        "id": "W5D9q4te3sYf"
      },
      "execution_count": null,
      "outputs": []
    },
    {
      "cell_type": "code",
      "source": [
        "# Zip the columns\n",
        "resultado = pd.DataFrame(list(zip(operadores, missoes)), columns = ['Operador', 'Últimas misssões no mês anterior'])"
      ],
      "metadata": {
        "id": "CXqUx4wmzolH"
      },
      "execution_count": null,
      "outputs": []
    },
    {
      "cell_type": "code",
      "source": [
        "# Criar uma mascara para filtrar os operadores da semanal\n",
        "filtro = resultado['Operador'].isin(operadores_semanal)\n",
        "resultado_final = resultado[filtro]"
      ],
      "metadata": {
        "id": "iOTtTSMO0bTD"
      },
      "execution_count": null,
      "outputs": []
    },
    {
      "cell_type": "code",
      "source": [
        "resultado_final, semanais.loc[151:175]"
      ],
      "metadata": {
        "colab": {
          "base_uri": "https://localhost:8080/"
        },
        "id": "1KmoA29EL8cS",
        "outputId": "4dfa3d8f-66f9-4c2c-d3dc-3797e778ac7c"
      },
      "execution_count": null,
      "outputs": [
        {
          "output_type": "execute_result",
          "data": {
            "text/plain": [
              "(         Operador               Últimas misssões no mês anterior\n",
              " 13         ANDREI  [FOL, FOL, 03T, 24T, 25T, 26T, 27T, FOL, FOL]\n",
              " 24         BOLZAN  [FOL, FOL, 22M, 25M, 21M, 21M, 22M, FOL, FOL]\n",
              " 32         CIBELE  [FER, FER, FER, FER, FER, FER, FER, FOL, FOL]\n",
              " 41       DA COSTA  [FOL, 02M, 20M, 06M, FOL, FOL, FOL, FOL, FOL]\n",
              " 52      ELISABETE  [FER, FER, FER, FER, FER, FER, FER, FER, FER]\n",
              " 53           ELOY  [FOL, FOL, 27T, 08T, 29T, 30T, 22T, FOL, FOL]\n",
              " 60        FONSECA  [FOL, FOL, 24T, 25T, 26T, 27T, EMP, FOL, FOL]\n",
              " 66         FULBER  [FOL, FOL, 22T, 23T, 24T, 25T, 26T, FOL, FOL]\n",
              " 79   INES MIRANDA  [FER, FER, FER, FER, 23M, 28M, 25M, FOL, FOL]\n",
              " 80         ISABEL  [FOL, FOL, 15M, 23M, 05M, 25M, 23M, FOL, FOL]\n",
              " 94         KARINA  [FOL, FOL, FOL, 29T, 07T, 12T, 09T, 10T, 15N]\n",
              " 124       MIRANDA  [FER, FER, FER, FER, FER, FER, FER, FER, FER]\n",
              " 133          PAIM  [FOL, 10M, 06M, 07M, 08M, 23M, FOL, 07M, FOL]\n",
              " 139        RAFAEL  [12M, 01M, 19M, FOL, 07M, FOL, FOL, 04M, FOL]\n",
              " 157         SILVA  [15T, FOL, 30T, 22T, 23T, 24T, 15T, FOL, FOL]\n",
              " 163       TAVARES  [FOL, FOL, FOL, 05M, 01M, 02M, 03M, 07N, 02N]\n",
              " 165       TEOFILO  [FER, FER, FER, FER, FER, FER, FER, FER, FER]\n",
              " 173     VALLERIUS  [FER, FER, FER, FER, ASS, ASS, ASS, FOL, FOL]\n",
              " 174     VANDERLEI  [21T, FOL, 26T, 27T, 28T, 10T, 06T, FOL, FOL]\n",
              " 177       VERGARA  [FOL, FOL, 16M, 16M, 25M, 26M, 26M, FOL, FOL],\n",
              "     Unnamed: 1    Unnamed: 3 Unnamed: 8 Unnamed: 10\n",
              " 151        X01        BOLZAN        Y01   VANDERLEI\n",
              " 152        X01             _        Y01           _\n",
              " 153        X02       VERGARA        Y02        ELOY\n",
              " 154        X02             _        Y02           _\n",
              " 155        X03        ISABEL        Y03       SILVA\n",
              " 156        X03             _        Y03           _\n",
              " 157        X04  INES MIRANDA        Y04      FULBER\n",
              " 158        X04             _        Y04           _\n",
              " 159        X05       TEOFILO        Y05      ANDREI\n",
              " 160        X05             _        Y05           _\n",
              " 161        X06        CIBELE        Y06     FONSECA\n",
              " 162        X06             _        Y06           _\n",
              " 163        X07          PAIM        Y07   VALLERIUS\n",
              " 164        X07             _        Y07           _\n",
              " 165        X08        RAFAEL        Y08   ELISABETE\n",
              " 166        X08             _        Y08           _\n",
              " 167        X09      DA COSTA        Y09     MIRANDA\n",
              " 168        X09             _        Y09           _\n",
              " 169        X10       TAVARES        Y10      KARINA\n",
              " 170        X10             _        Y10           _\n",
              " 171        X11             _        Y11           _\n",
              " 172        X11             _        Y11           _\n",
              " 173        X12             _        Y12           _\n",
              " 174        X12             _        Y12           _\n",
              " 175        X13             _        Y13           _)"
            ]
          },
          "metadata": {},
          "execution_count": 142
        }
      ]
    }
  ]
}