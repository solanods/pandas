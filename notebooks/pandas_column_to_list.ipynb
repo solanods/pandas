{
 "cells": [
  {
   "cell_type": "code",
   "execution_count": 22,
   "id": "copyrighted-producer",
   "metadata": {},
   "outputs": [
    {
     "name": "stdout",
     "output_type": "stream",
     "text": [
      "Iniciando nosso robô...\n",
      "\n"
     ]
    }
   ],
   "source": [
    "from selenium import webdriver\n",
    "from selenium.webdriver.common.keys import Keys\n",
    "import time\n",
    "import xlrd\n",
    "import pandas as pd\n",
    "\n",
    "\n",
    "print('Iniciando nosso robô...\\n')\n",
    "\n",
    "\n",
    "df = pd.read_csv('/home/sol/PycharmProjects/env1/venv/bin/Robos/nomes.csv')"
   ]
  },
  {
   "cell_type": "code",
   "execution_count": 23,
   "id": "continent-worth",
   "metadata": {},
   "outputs": [
    {
     "name": "stdout",
     "output_type": "stream",
     "text": [
      "<class 'pandas.core.frame.DataFrame'>\n",
      "RangeIndex: 15 entries, 0 to 14\n",
      "Data columns (total 2 columns):\n",
      " #   Column   Non-Null Count  Dtype \n",
      "---  ------   --------------  ----- \n",
      " 0   Nomes    15 non-null     object\n",
      " 1   Valores  15 non-null     int64 \n",
      "dtypes: int64(1), object(1)\n",
      "memory usage: 368.0+ bytes\n"
     ]
    }
   ],
   "source": [
    "df.info()"
   ]
  },
  {
   "cell_type": "code",
   "execution_count": 24,
   "id": "opposed-economy",
   "metadata": {},
   "outputs": [
    {
     "data": {
      "text/html": [
       "<div>\n",
       "<style scoped>\n",
       "    .dataframe tbody tr th:only-of-type {\n",
       "        vertical-align: middle;\n",
       "    }\n",
       "\n",
       "    .dataframe tbody tr th {\n",
       "        vertical-align: top;\n",
       "    }\n",
       "\n",
       "    .dataframe thead th {\n",
       "        text-align: right;\n",
       "    }\n",
       "</style>\n",
       "<table border=\"1\" class=\"dataframe\">\n",
       "  <thead>\n",
       "    <tr style=\"text-align: right;\">\n",
       "      <th></th>\n",
       "      <th>Nomes</th>\n",
       "      <th>Valores</th>\n",
       "    </tr>\n",
       "  </thead>\n",
       "  <tbody>\n",
       "    <tr>\n",
       "      <th>0</th>\n",
       "      <td>Alexandre Maineri</td>\n",
       "      <td>23</td>\n",
       "    </tr>\n",
       "    <tr>\n",
       "      <th>1</th>\n",
       "      <td>Andre Luiz Barros</td>\n",
       "      <td>5665</td>\n",
       "    </tr>\n",
       "    <tr>\n",
       "      <th>2</th>\n",
       "      <td>Carlos Borba</td>\n",
       "      <td>54564</td>\n",
       "    </tr>\n",
       "    <tr>\n",
       "      <th>3</th>\n",
       "      <td>Ciriani Souza</td>\n",
       "      <td>56565</td>\n",
       "    </tr>\n",
       "    <tr>\n",
       "      <th>4</th>\n",
       "      <td>Ciro Falavigna</td>\n",
       "      <td>6589</td>\n",
       "    </tr>\n",
       "    <tr>\n",
       "      <th>5</th>\n",
       "      <td>Flavio De Oliveira Pirett</td>\n",
       "      <td>96</td>\n",
       "    </tr>\n",
       "    <tr>\n",
       "      <th>6</th>\n",
       "      <td>Janilson Santos Junior</td>\n",
       "      <td>986</td>\n",
       "    </tr>\n",
       "    <tr>\n",
       "      <th>7</th>\n",
       "      <td>João Pedro</td>\n",
       "      <td>86</td>\n",
       "    </tr>\n",
       "    <tr>\n",
       "      <th>8</th>\n",
       "      <td>Lean Mendes</td>\n",
       "      <td>4566</td>\n",
       "    </tr>\n",
       "    <tr>\n",
       "      <th>9</th>\n",
       "      <td>Marcos Schlickmann</td>\n",
       "      <td>5656</td>\n",
       "    </tr>\n",
       "    <tr>\n",
       "      <th>10</th>\n",
       "      <td>Matheus Queiroz Siqueira</td>\n",
       "      <td>565</td>\n",
       "    </tr>\n",
       "    <tr>\n",
       "      <th>11</th>\n",
       "      <td>Mauricio Dall Onder</td>\n",
       "      <td>565</td>\n",
       "    </tr>\n",
       "    <tr>\n",
       "      <th>12</th>\n",
       "      <td>Milena Feier Viegas Cesar</td>\n",
       "      <td>598</td>\n",
       "    </tr>\n",
       "    <tr>\n",
       "      <th>13</th>\n",
       "      <td>Moises Costa Beber</td>\n",
       "      <td>863</td>\n",
       "    </tr>\n",
       "    <tr>\n",
       "      <th>14</th>\n",
       "      <td>Rosimeire De Souza</td>\n",
       "      <td>888</td>\n",
       "    </tr>\n",
       "  </tbody>\n",
       "</table>\n",
       "</div>"
      ],
      "text/plain": [
       "                        Nomes  Valores\n",
       "0           Alexandre Maineri       23\n",
       "1           Andre Luiz Barros     5665\n",
       "2                Carlos Borba    54564\n",
       "3               Ciriani Souza    56565\n",
       "4              Ciro Falavigna     6589\n",
       "5   Flavio De Oliveira Pirett       96\n",
       "6      Janilson Santos Junior      986\n",
       "7                  João Pedro       86\n",
       "8                 Lean Mendes     4566\n",
       "9          Marcos Schlickmann     5656\n",
       "10   Matheus Queiroz Siqueira      565\n",
       "11        Mauricio Dall Onder      565\n",
       "12  Milena Feier Viegas Cesar      598\n",
       "13         Moises Costa Beber      863\n",
       "14         Rosimeire De Souza      888"
      ]
     },
     "execution_count": 24,
     "metadata": {},
     "output_type": "execute_result"
    }
   ],
   "source": [
    "df"
   ]
  },
  {
   "cell_type": "code",
   "execution_count": 26,
   "id": "continuing-samba",
   "metadata": {},
   "outputs": [
    {
     "data": {
      "text/plain": [
       "0             Alexandre Maineri\n",
       "1             Andre Luiz Barros\n",
       "2                  Carlos Borba\n",
       "3                 Ciriani Souza\n",
       "4                Ciro Falavigna\n",
       "5     Flavio De Oliveira Pirett\n",
       "6        Janilson Santos Junior\n",
       "7                    João Pedro\n",
       "8                   Lean Mendes\n",
       "9            Marcos Schlickmann\n",
       "10     Matheus Queiroz Siqueira\n",
       "11          Mauricio Dall Onder\n",
       "12    Milena Feier Viegas Cesar\n",
       "13           Moises Costa Beber\n",
       "14           Rosimeire De Souza\n",
       "Name: Nomes, dtype: object"
      ]
     },
     "execution_count": 26,
     "metadata": {},
     "output_type": "execute_result"
    }
   ],
   "source": [
    "df['Nomes']"
   ]
  },
  {
   "cell_type": "code",
   "execution_count": 30,
   "id": "certified-removal",
   "metadata": {},
   "outputs": [],
   "source": [
    "listanomes = df['Nomes'].tolist()"
   ]
  },
  {
   "cell_type": "code",
   "execution_count": 31,
   "id": "demonstrated-japanese",
   "metadata": {},
   "outputs": [
    {
     "data": {
      "text/plain": [
       "['Alexandre Maineri',\n",
       " 'Andre Luiz Barros',\n",
       " 'Carlos Borba',\n",
       " 'Ciriani Souza',\n",
       " 'Ciro Falavigna',\n",
       " 'Flavio De Oliveira Pirett',\n",
       " 'Janilson Santos Junior',\n",
       " 'João Pedro',\n",
       " 'Lean Mendes',\n",
       " 'Marcos Schlickmann',\n",
       " 'Matheus Queiroz Siqueira',\n",
       " 'Mauricio Dall Onder',\n",
       " 'Milena Feier Viegas Cesar',\n",
       " 'Moises Costa Beber',\n",
       " 'Rosimeire De Souza']"
      ]
     },
     "execution_count": 31,
     "metadata": {},
     "output_type": "execute_result"
    }
   ],
   "source": [
    "listanomes"
   ]
  },
  {
   "cell_type": "code",
   "execution_count": 32,
   "id": "requested-grenada",
   "metadata": {},
   "outputs": [],
   "source": [
    "listavalores = df['Valores'].tolist()"
   ]
  },
  {
   "cell_type": "code",
   "execution_count": 33,
   "id": "dated-miniature",
   "metadata": {},
   "outputs": [
    {
     "data": {
      "text/plain": [
       "[23,\n",
       " 5665,\n",
       " 54564,\n",
       " 56565,\n",
       " 6589,\n",
       " 96,\n",
       " 986,\n",
       " 86,\n",
       " 4566,\n",
       " 5656,\n",
       " 565,\n",
       " 565,\n",
       " 598,\n",
       " 863,\n",
       " 888]"
      ]
     },
     "execution_count": 33,
     "metadata": {},
     "output_type": "execute_result"
    }
   ],
   "source": [
    "listavalores"
   ]
  },
  {
   "cell_type": "code",
   "execution_count": 34,
   "id": "rental-lyric",
   "metadata": {},
   "outputs": [],
   "source": [
    "import numpy as np"
   ]
  },
  {
   "cell_type": "code",
   "execution_count": 35,
   "id": "attended-capacity",
   "metadata": {},
   "outputs": [
    {
     "data": {
      "text/plain": [
       "9218.333333333334"
      ]
     },
     "execution_count": 35,
     "metadata": {},
     "output_type": "execute_result"
    }
   ],
   "source": [
    "np.mean(listavalores)"
   ]
  },
  {
   "cell_type": "code",
   "execution_count": 36,
   "id": "embedded-rebate",
   "metadata": {},
   "outputs": [
    {
     "data": {
      "text/plain": [
       "138275"
      ]
     },
     "execution_count": 36,
     "metadata": {},
     "output_type": "execute_result"
    }
   ],
   "source": [
    "np.sum(listavalores)"
   ]
  },
  {
   "cell_type": "code",
   "execution_count": 37,
   "id": "monthly-duration",
   "metadata": {},
   "outputs": [
    {
     "data": {
      "text/plain": [
       "888.0"
      ]
     },
     "execution_count": 37,
     "metadata": {},
     "output_type": "execute_result"
    }
   ],
   "source": [
    "np.median(listavalores)\n"
   ]
  },
  {
   "cell_type": "code",
   "execution_count": 40,
   "id": "faced-paintball",
   "metadata": {},
   "outputs": [
    {
     "data": {
      "text/plain": [
       "[23,\n",
       " 86,\n",
       " 96,\n",
       " 565,\n",
       " 565,\n",
       " 598,\n",
       " 863,\n",
       " 888,\n",
       " 986,\n",
       " 4566,\n",
       " 5656,\n",
       " 5665,\n",
       " 6589,\n",
       " 54564,\n",
       " 56565]"
      ]
     },
     "execution_count": 40,
     "metadata": {},
     "output_type": "execute_result"
    }
   ],
   "source": [
    "sorted(listavalores)"
   ]
  },
  {
   "cell_type": "code",
   "execution_count": 39,
   "id": "photographic-ferry",
   "metadata": {},
   "outputs": [],
   "source": [
    "listavalores.sort()"
   ]
  },
  {
   "cell_type": "code",
   "execution_count": null,
   "id": "absolute-canvas",
   "metadata": {},
   "outputs": [],
   "source": []
  }
 ],
 "metadata": {
  "kernelspec": {
   "display_name": "Python 3 (ipykernel)",
   "language": "python",
   "name": "python3"
  },
  "language_info": {
   "codemirror_mode": {
    "name": "ipython",
    "version": 3
   },
   "file_extension": ".py",
   "mimetype": "text/x-python",
   "name": "python",
   "nbconvert_exporter": "python",
   "pygments_lexer": "ipython3",
   "version": "3.8.13"
  }
 },
 "nbformat": 4,
 "nbformat_minor": 5
}
