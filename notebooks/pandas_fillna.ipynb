{
 "cells": [
  {
   "cell_type": "code",
   "execution_count": 3,
   "id": "80b54123",
   "metadata": {},
   "outputs": [],
   "source": [
    "import numpy as np\n",
    "import pandas as pd"
   ]
  },
  {
   "cell_type": "code",
   "execution_count": 21,
   "id": "3e7d2fca",
   "metadata": {},
   "outputs": [],
   "source": [
    "s = pd.Series(np.random.randn(10))"
   ]
  },
  {
   "cell_type": "code",
   "execution_count": 22,
   "id": "d1c49631",
   "metadata": {},
   "outputs": [
    {
     "data": {
      "text/plain": [
       "0   -0.727503\n",
       "1    1.716388\n",
       "2   -0.242551\n",
       "3   -0.791756\n",
       "4    1.201968\n",
       "5   -2.356985\n",
       "6    1.757846\n",
       "7    0.966890\n",
       "8   -0.302823\n",
       "9    0.290582\n",
       "dtype: float64"
      ]
     },
     "execution_count": 22,
     "metadata": {},
     "output_type": "execute_result"
    }
   ],
   "source": [
    "s"
   ]
  },
  {
   "cell_type": "code",
   "execution_count": 27,
   "id": "3b32c9ad",
   "metadata": {},
   "outputs": [],
   "source": [
    "s[::2] = np.nan"
   ]
  },
  {
   "cell_type": "code",
   "execution_count": 28,
   "id": "f1cad000",
   "metadata": {},
   "outputs": [
    {
     "data": {
      "text/plain": [
       "0         NaN\n",
       "1    1.716388\n",
       "2         NaN\n",
       "3         NaN\n",
       "4         NaN\n",
       "5   -2.356985\n",
       "6         NaN\n",
       "7    0.966890\n",
       "8         NaN\n",
       "9         NaN\n",
       "dtype: float64"
      ]
     },
     "execution_count": 28,
     "metadata": {},
     "output_type": "execute_result"
    }
   ],
   "source": [
    "s"
   ]
  },
  {
   "cell_type": "code",
   "execution_count": 30,
   "id": "4fc1118a",
   "metadata": {},
   "outputs": [
    {
     "data": {
      "text/plain": [
       "0    0.108764\n",
       "1    1.716388\n",
       "2    0.108764\n",
       "3    0.108764\n",
       "4    0.108764\n",
       "5   -2.356985\n",
       "6    0.108764\n",
       "7    0.966890\n",
       "8    0.108764\n",
       "9    0.108764\n",
       "dtype: float64"
      ]
     },
     "execution_count": 30,
     "metadata": {},
     "output_type": "execute_result"
    }
   ],
   "source": [
    "# preencher os valores ausentes com a média\n",
    "s.fillna(s.mean())"
   ]
  },
  {
   "cell_type": "code",
   "execution_count": null,
   "id": "64087526",
   "metadata": {},
   "outputs": [],
   "source": []
  }
 ],
 "metadata": {
  "kernelspec": {
   "display_name": "Python 3 (ipykernel)",
   "language": "python",
   "name": "python3"
  },
  "language_info": {
   "codemirror_mode": {
    "name": "ipython",
    "version": 3
   },
   "file_extension": ".py",
   "mimetype": "text/x-python",
   "name": "python",
   "nbconvert_exporter": "python",
   "pygments_lexer": "ipython3",
   "version": "3.8.13"
  }
 },
 "nbformat": 4,
 "nbformat_minor": 5
}
